{
  "nbformat": 4,
  "nbformat_minor": 0,
  "metadata": {
    "colab": {
      "name": "helper-functions.ipynb",
      "provenance": [],
      "collapsed_sections": [],
      "authorship_tag": "ABX9TyM0T+V9+zKyTkcF6x7AVpSm",
      "include_colab_link": true
    },
    "kernelspec": {
      "name": "python3",
      "display_name": "Python 3"
    },
    "language_info": {
      "name": "python"
    }
  },
  "cells": [
    {
      "cell_type": "markdown",
      "metadata": {
        "id": "view-in-github",
        "colab_type": "text"
      },
      "source": [
        "<a href=\"https://colab.research.google.com/github/Kunal719/helper_functions/blob/main/helper_functions.ipynb\" target=\"_parent\"><img src=\"https://colab.research.google.com/assets/colab-badge.svg\" alt=\"Open In Colab\"/></a>"
      ]
    },
    {
      "cell_type": "markdown",
      "metadata": {
        "id": "O9CmzKkov_Mt"
      },
      "source": [
        "# Helper Functions"
      ]
    },
    {
      "cell_type": "code",
      "metadata": {
        "id": "kKpupAU5wXnq"
      },
      "source": [
        "import tensorflow as tf\n",
        "import pandas as pd\n",
        "import matplotlib.pyplot as plt\n",
        "import numpy as np"
      ],
      "execution_count": null,
      "outputs": []
    },
    {
      "cell_type": "markdown",
      "metadata": {
        "id": "dyhMToLwwB8a"
      },
      "source": [
        "## Plot Loss Curves\n",
        "\n",
        "Plot Loss and Accuracy graphs separately."
      ]
    },
    {
      "cell_type": "code",
      "metadata": {
        "id": "RfCRKxQTwSyU"
      },
      "source": [
        "def plot_loss_curves(history):\n",
        "  \"\"\"\n",
        "  Returns separate curves for training and validation metrics\n",
        "  \"\"\"\n",
        "  loss = history.history[\"loss\"]\n",
        "  accuracy = history.history[\"accuracy\"]\n",
        "  val_loss = history.history[\"val_loss\"]\n",
        "  val_accuracy = history.history[\"val_accuracy\"]\n",
        "  \n",
        "  # Number of epochs\n",
        "  epochs = range(len(history.history[\"loss\"]))\n",
        "\n",
        "  # Plot the loss\n",
        "  plt.plot(epochs,loss,label=\"Training Loss\")\n",
        "  plt.plot(epochs,val_loss,label=\"Validation Loss\")\n",
        "  plt.title(\"Loss\")\n",
        "  plt.xlabel(\"Epochs\")\n",
        "  plt.legend()\n",
        "\n",
        "  # Plot the accuracy\n",
        "  plt.figure()\n",
        "  plt.plot(epochs,accuracy,label=\"Training Accuracy\")\n",
        "  plt.plot(epochs,val_accuracy,label=\"Validation Accuracy\")\n",
        "  plt.title(\"Accuracy\")\n",
        "  plt.xlabel(\"Epochs\")\n",
        "  plt.legend();"
      ],
      "execution_count": null,
      "outputs": []
    },
    {
      "cell_type": "markdown",
      "metadata": {
        "id": "fICC22MtwjvD"
      },
      "source": [
        "## Preprocess Images\n",
        "Preprocesses images and reshapes into a shape which can be recognized by model to predict"
      ]
    },
    {
      "cell_type": "code",
      "metadata": {
        "id": "X4G2eovawvZx"
      },
      "source": [
        "def load_and_prep_image(filename, img_shape=224):\n",
        "  \"\"\"\n",
        "  Reads an image from filename, turns it into a tensor and reshapes it to (img_shape,img_shape,color_channels)\n",
        "  \"\"\"\n",
        "  # Read an image\n",
        "  img = tf.io.read_file(filename)\n",
        "  # Decode the read file into tensor\n",
        "  img = tf.image.decode_image(img)\n",
        "  # Resize the image\n",
        "  img = tf.image.resize(img,[img_shape,img_shape])\n",
        "  # Rescale the image and get all values between 0 and 1\n",
        "  img = img / 255.\n",
        "  return img"
      ],
      "execution_count": null,
      "outputs": []
    },
    {
      "cell_type": "markdown",
      "metadata": {
        "id": "9OiSBPQvw1Pc"
      },
      "source": [
        "## Predict and Plot the reshaped image"
      ]
    },
    {
      "cell_type": "code",
      "metadata": {
        "id": "JAEBvIlmw99Q"
      },
      "source": [
        "def pred_and_plot(model,filename,class_names):\n",
        "  \"\"\"\n",
        "  Imports image located in filename, predicts image class with model, and plots the image with the predicted class as the title\n",
        "  \"\"\"\n",
        "  # Preprocess the image\n",
        "  img = load_and_prep_image(filename)\n",
        "  # Make prediction on the image\n",
        "  pred_prob = model.predict(tf.expand_dims(img, axis=0))\n",
        "  # Find the prediction class\n",
        "  pred_class = class_names[int(tf.round(pred_prob)[0][0])]\n",
        "  # Plot the image with the predicted class as title\n",
        "  plt.imshow(img)\n",
        "  plt.title(f\"Prediction : {pred_class}\")\n",
        "  plt.axis(False); "
      ],
      "execution_count": null,
      "outputs": []
    },
    {
      "cell_type": "markdown",
      "metadata": {
        "id": "lOd_ikhaxANp"
      },
      "source": [
        "## View Random Image from a target folder"
      ]
    },
    {
      "cell_type": "code",
      "metadata": {
        "id": "GPJ8gKWlxPuD"
      },
      "source": [
        "import matplotlib.pyplot as plt\n",
        "import matplotlib.image as mpimg\n",
        "import random\n",
        "\n",
        "def view_random_image(target_dir,target_class):\n",
        "  # Setup the target directory (view image from here)\n",
        "  target_folder = target_dir + target_class\n",
        "\n",
        "  # Get a random image path\n",
        "  random_image = random.sample(os.listdir(target_folder),1)\n",
        "  print(random_image)\n",
        "\n",
        "  # Read the image and plot it\n",
        "  img = mpimg.imread(target_folder + \"/\" + random_image[0]) #random_image[0] gives value without strings\n",
        "  plt.imshow(img)\n",
        "  plt.title(target_class)\n",
        "  plt.axis(\"off\");\n",
        "\n",
        "  print(f\"Image shape : {img.shape}\") # Shape of an image\n",
        "\n",
        "  return img"
      ],
      "execution_count": null,
      "outputs": []
    },
    {
      "cell_type": "markdown",
      "metadata": {
        "id": "oyzApX_GxRrT"
      },
      "source": [
        "## Getting classnames programatically"
      ]
    },
    {
      "cell_type": "code",
      "metadata": {
        "colab": {
          "base_uri": "https://localhost:8080/"
        },
        "id": "7dCxUYTIxdGX",
        "outputId": "558b3fe3-385e-401f-f880-c7ac0a267a87"
      },
      "source": [
        "import pathlib\n",
        "import numpy as np\n",
        "data_dir = pathlib.Path(\"pizza_steak/train\") # enter your path in which train/test data is available\n",
        "class_names = np.array(sorted([item.name for item in data_dir.glob(\"*\")])) # creates a list of class_names from the subdirectory\n",
        "class_names = class_names[1:]\n",
        "class_names"
      ],
      "execution_count": null,
      "outputs": [
        {
          "output_type": "execute_result",
          "data": {
            "text/plain": [
              "array([], dtype=float64)"
            ]
          },
          "metadata": {},
          "execution_count": 9
        }
      ]
    },
    {
      "cell_type": "markdown",
      "metadata": {
        "id": "JdMtOKxZxiw-"
      },
      "source": [
        "## Plot Decision Boundary Curve for non-linear data"
      ]
    },
    {
      "cell_type": "code",
      "metadata": {
        "id": "CvrjJIFWyhML"
      },
      "source": [
        "def plot_decision_boundary(model,X,y):\n",
        "  \"\"\"\n",
        "  Plots the model's performance/decision boundary based on predictions on X\n",
        "  \"\"\"\n",
        "  # Define the axis boundary via a meshgrid\n",
        "  x_min,x_max = X[:,0].min(),X[:,0].max()\n",
        "  y_min,y_max = X[:,1].min(),X[:,1].max()\n",
        "  xx,yy = np.meshgrid(np.linspace(x_min,x_max,100),\n",
        "                      np.linspace(y_min,y_max,100))\n",
        "  \n",
        "  # Creating X values (predicting on these values)\n",
        "  x_in = np.c_[xx.ravel(),yy.ravel()]\n",
        "\n",
        "  # Make predictions\n",
        "  y_preds = model.predict(x_in)\n",
        "\n",
        "  # Check if it's multiclass\n",
        "  if len(y_preds[0]) > 1:\n",
        "    print(\"Multi-Class Classification Problem\")\n",
        "    y_preds = np.argmax(y_preds,axis=1).reshape(xx.shape)\n",
        "  else :\n",
        "    print(\"Binary Class Classification Problem\")\n",
        "    y_preds = np.round(y_preds).reshape(xx.shape)\n",
        "\n",
        "  # Plot the curve\n",
        "  plt.contourf(xx,yy,y_preds,cmap=plt.cm.RdYlBu,alpha=0.7)\n",
        "  plt.scatter(X[:,0],X[:,1],c=y,s=40,cmap=plt.cm.RdYlBu)\n",
        "  plt.xlim(xx.min(),xx.max())\n",
        "  plt.ylim(yy.min(),yy.max()); "
      ],
      "execution_count": null,
      "outputs": []
    },
    {
      "cell_type": "markdown",
      "metadata": {
        "id": "DmaNBchHykvY"
      },
      "source": [
        "## Plot Confusion Matrix\n",
        "\n",
        "Was made for multiclass classification problem"
      ]
    },
    {
      "cell_type": "code",
      "metadata": {
        "colab": {
          "base_uri": "https://localhost:8080/",
          "height": 810
        },
        "id": "iBjlI9R_y0S4",
        "outputId": "f306ff8f-c79d-4859-dc30-5d357bbd2c75"
      },
      "source": [
        "# Plot confusion matrix\n",
        "from sklearn.metrics import ConfusionMatrixDisplay,confusion_matrix\n",
        "fig,ax = plt.subplots(figsize=(10,10))\n",
        "plt.rcParams.update({\"font.size\":10})\n",
        "\n",
        "cm = confusion_matrix(test_labels,y_preds)\n",
        "cmd = ConfusionMatrixDisplay(cm,[])\n",
        "n_classes = cm.shape[0]\n",
        "cmd.plot(cmap=\"Blues\",ax=ax);\n",
        "\n",
        "ax.set(title=\"Confusion Matrix\",\n",
        "       xticks=np.arange(n_classes),\n",
        "       yticks=np.arange(n_classes),\n",
        "       xticklabels=class_names,\n",
        "       yticklabels=class_names)\n",
        "ax.xaxis.label.set_size(15)\n",
        "ax.yaxis.label.set_size(15)\n",
        "ax.title.set_size(15)"
      ],
      "execution_count": null,
      "outputs": [
        {
          "output_type": "error",
          "ename": "NameError",
          "evalue": "ignored",
          "traceback": [
            "\u001b[0;31m---------------------------------------------------------------------------\u001b[0m",
            "\u001b[0;31mNameError\u001b[0m                                 Traceback (most recent call last)",
            "\u001b[0;32m<ipython-input-11-03bb8262f81b>\u001b[0m in \u001b[0;36m<module>\u001b[0;34m()\u001b[0m\n\u001b[1;32m      4\u001b[0m \u001b[0mplt\u001b[0m\u001b[0;34m.\u001b[0m\u001b[0mrcParams\u001b[0m\u001b[0;34m.\u001b[0m\u001b[0mupdate\u001b[0m\u001b[0;34m(\u001b[0m\u001b[0;34m{\u001b[0m\u001b[0;34m\"font.size\"\u001b[0m\u001b[0;34m:\u001b[0m\u001b[0;36m10\u001b[0m\u001b[0;34m}\u001b[0m\u001b[0;34m)\u001b[0m\u001b[0;34m\u001b[0m\u001b[0;34m\u001b[0m\u001b[0m\n\u001b[1;32m      5\u001b[0m \u001b[0;34m\u001b[0m\u001b[0m\n\u001b[0;32m----> 6\u001b[0;31m \u001b[0mcm\u001b[0m \u001b[0;34m=\u001b[0m \u001b[0mconfusion_matrix\u001b[0m\u001b[0;34m(\u001b[0m\u001b[0mtest_labels\u001b[0m\u001b[0;34m,\u001b[0m\u001b[0my_preds\u001b[0m\u001b[0;34m)\u001b[0m\u001b[0;34m\u001b[0m\u001b[0;34m\u001b[0m\u001b[0m\n\u001b[0m\u001b[1;32m      7\u001b[0m \u001b[0mcmd\u001b[0m \u001b[0;34m=\u001b[0m \u001b[0mConfusionMatrixDisplay\u001b[0m\u001b[0;34m(\u001b[0m\u001b[0mcm\u001b[0m\u001b[0;34m,\u001b[0m\u001b[0;34m[\u001b[0m\u001b[0;34m]\u001b[0m\u001b[0;34m)\u001b[0m\u001b[0;34m\u001b[0m\u001b[0;34m\u001b[0m\u001b[0m\n\u001b[1;32m      8\u001b[0m \u001b[0mn_classes\u001b[0m \u001b[0;34m=\u001b[0m \u001b[0mcm\u001b[0m\u001b[0;34m.\u001b[0m\u001b[0mshape\u001b[0m\u001b[0;34m[\u001b[0m\u001b[0;36m0\u001b[0m\u001b[0;34m]\u001b[0m\u001b[0;34m\u001b[0m\u001b[0;34m\u001b[0m\u001b[0m\n",
            "\u001b[0;31mNameError\u001b[0m: name 'test_labels' is not defined"
          ]
        },
        {
          "output_type": "display_data",
          "data": {
            "image/png": "[encoded data removed]",
            "text/plain": [
              "<Figure size 720x720 with 1 Axes>"
            ]
          },
          "metadata": {
            "needs_background": "light"
          }
        }
      ]
    },
    {
      "cell_type": "markdown",
      "metadata": {
        "id": "E5azlx8oy1jj"
      },
      "source": [
        "## Plot Images with true label and pred and color based on pred made"
      ]
    },
    {
      "cell_type": "code",
      "metadata": {
        "id": "HwzTlBeMzE-L"
      },
      "source": [
        "# Plot a function to show images and predictions\n",
        "def plot_image(i,model,true_labels,images,classes):\n",
        "\n",
        "  #Sometimes i = random.randint(0,len(images)) and i is not defined in the function parameters\n",
        "  target_image = images[i]\n",
        "  pred_prob = model.predict(target_image.reshape(1,28,28))\n",
        "  pred = np.argmax(pred_prob)\n",
        "  pred_label = classes[pred]\n",
        "  true_label = classes[true_labels[i]]\n",
        "\n",
        "  plt.imshow(target_image,cmap=plt.cm.binary)\n",
        "  plt.grid(False)\n",
        "  plt.xticks([])\n",
        "  plt.yticks([])\n",
        "\n",
        "  if (pred_label == true_label):\n",
        "    color=\"green\"\n",
        "  else:\n",
        "    color=\"red\"\n",
        "  \n",
        "  plt.xlabel(f\"{pred_label} ({100*tf.reduce_max(pred_prob):0.2f}%) {true_label}\",color=color)"
      ],
      "execution_count": null,
      "outputs": []
    },
    {
      "cell_type": "markdown",
      "metadata": {
        "id": "YyFtkTMSzFko"
      },
      "source": [
        "## Plot Multiple Images with graph of prediction probabilites\n",
        "\n",
        "Was made for MultiClass Classification problems"
      ]
    },
    {
      "cell_type": "code",
      "metadata": {
        "id": "cghGf99QzRta"
      },
      "source": [
        "# Plotting multiple images\n",
        "def plot_multiple_predictions():\n",
        "  n_rows=5\n",
        "  n_cols=3\n",
        "  num_images=n_rows*n_cols\n",
        "  plt.figure(figsize=(n_cols*2*2,n_rows*2))\n",
        "  plt.title(\"Plot Prediction -> Left = Pred Label, Right=True Label\")\n",
        "  for i in range(num_images):\n",
        "    plt.subplot(n_rows,2*n_cols,2*i+1)\n",
        "    plot_image(i,model_1,test_labels,test_data,class_names)\n",
        "    plt.subplot(n_rows,2*n_cols,2*i+2)\n",
        "    plot_value_array(i,y_probs[i],test_labels)\n",
        "  plt.tight_layout()\n",
        "  plt.show();"
      ],
      "execution_count": null,
      "outputs": []
    },
    {
      "cell_type": "markdown",
      "metadata": {
        "id": "4EegUW8XzSJn"
      },
      "source": [
        "## To find best Learing Rate"
      ]
    },
    {
      "cell_type": "code",
      "metadata": {
        "id": "55_fBw9q0Vg7"
      },
      "source": [
        "# Add a callback\n",
        "lr_scheduler = tf.keras.callbacks.LearningRateScheduler(lambda epoch : 1e-4 * 10**(epoch/20))"
      ],
      "execution_count": null,
      "outputs": []
    },
    {
      "cell_type": "code",
      "metadata": {
        "colab": {
          "base_uri": "https://localhost:8080/"
        },
        "id": "xHwFTYXT0Xag",
        "outputId": "025e79ae-6c2c-4520-8ec5-713cb86cf8e7"
      },
      "source": [
        "# Find all values of learning rates\n",
        "lrs = 1e-4 * (10**(tf.range(100)/20))\n",
        "lrs"
      ],
      "execution_count": null,
      "outputs": [
        {
          "output_type": "execute_result",
          "data": {
            "text/plain": [
              "<tf.Tensor: shape=(100,), dtype=float64, numpy=\n",
              "array([1.00000000e-04, 1.12201845e-04, 1.25892541e-04, 1.41253754e-04,\n",
              "       1.58489319e-04, 1.77827941e-04, 1.99526231e-04, 2.23872114e-04,\n",
              "       2.51188643e-04, 2.81838293e-04, 3.16227766e-04, 3.54813389e-04,\n",
              "       3.98107171e-04, 4.46683592e-04, 5.01187234e-04, 5.62341325e-04,\n",
              "       6.30957344e-04, 7.07945784e-04, 7.94328235e-04, 8.91250938e-04,\n",
              "       1.00000000e-03, 1.12201845e-03, 1.25892541e-03, 1.41253754e-03,\n",
              "       1.58489319e-03, 1.77827941e-03, 1.99526231e-03, 2.23872114e-03,\n",
              "       2.51188643e-03, 2.81838293e-03, 3.16227766e-03, 3.54813389e-03,\n",
              "       3.98107171e-03, 4.46683592e-03, 5.01187234e-03, 5.62341325e-03,\n",
              "       6.30957344e-03, 7.07945784e-03, 7.94328235e-03, 8.91250938e-03,\n",
              "       1.00000000e-02, 1.12201845e-02, 1.25892541e-02, 1.41253754e-02,\n",
              "       1.58489319e-02, 1.77827941e-02, 1.99526231e-02, 2.23872114e-02,\n",
              "       2.51188643e-02, 2.81838293e-02, 3.16227766e-02, 3.54813389e-02,\n",
              "       3.98107171e-02, 4.46683592e-02, 5.01187234e-02, 5.62341325e-02,\n",
              "       6.30957344e-02, 7.07945784e-02, 7.94328235e-02, 8.91250938e-02,\n",
              "       1.00000000e-01, 1.12201845e-01, 1.25892541e-01, 1.41253754e-01,\n",
              "       1.58489319e-01, 1.77827941e-01, 1.99526231e-01, 2.23872114e-01,\n",
              "       2.51188643e-01, 2.81838293e-01, 3.16227766e-01, 3.54813389e-01,\n",
              "       3.98107171e-01, 4.46683592e-01, 5.01187234e-01, 5.62341325e-01,\n",
              "       6.30957344e-01, 7.07945784e-01, 7.94328235e-01, 8.91250938e-01,\n",
              "       1.00000000e+00, 1.12201845e+00, 1.25892541e+00, 1.41253754e+00,\n",
              "       1.58489319e+00, 1.77827941e+00, 1.99526231e+00, 2.23872114e+00,\n",
              "       2.51188643e+00, 2.81838293e+00, 3.16227766e+00, 3.54813389e+00,\n",
              "       3.98107171e+00, 4.46683592e+00, 5.01187234e+00, 5.62341325e+00,\n",
              "       6.30957344e+00, 7.07945784e+00, 7.94328235e+00, 8.91250938e+00])>"
            ]
          },
          "metadata": {},
          "execution_count": 17
        }
      ]
    },
    {
      "cell_type": "code",
      "metadata": {
        "colab": {
          "base_uri": "https://localhost:8080/",
          "height": 248
        },
        "id": "EO4uqnPM0m6K",
        "outputId": "eae6d353-72ca-4b73-92e1-ad09da86b237"
      },
      "source": [
        "# Plotting Learning Late vs Loss\n",
        "plt.figure(figsize=(10,7))\n",
        "plt.semilogx(lrs,history_9.history[\"loss\"]) # model's history\n",
        "plt.xlabel(\"Learning Rate\")\n",
        "plt.ylabel(\"Loss\")\n",
        "plt.title(\"Learning Rate vs Loss\");"
      ],
      "execution_count": null,
      "outputs": [
        {
          "output_type": "error",
          "ename": "NameError",
          "evalue": "ignored",
          "traceback": [
            "\u001b[0;31m---------------------------------------------------------------------------\u001b[0m",
            "\u001b[0;31mNameError\u001b[0m                                 Traceback (most recent call last)",
            "\u001b[0;32m<ipython-input-18-5221b31b080c>\u001b[0m in \u001b[0;36m<module>\u001b[0;34m()\u001b[0m\n\u001b[1;32m      1\u001b[0m \u001b[0;31m# Plotting Learning Late vs Loss\u001b[0m\u001b[0;34m\u001b[0m\u001b[0;34m\u001b[0m\u001b[0;34m\u001b[0m\u001b[0m\n\u001b[1;32m      2\u001b[0m \u001b[0mplt\u001b[0m\u001b[0;34m.\u001b[0m\u001b[0mfigure\u001b[0m\u001b[0;34m(\u001b[0m\u001b[0mfigsize\u001b[0m\u001b[0;34m=\u001b[0m\u001b[0;34m(\u001b[0m\u001b[0;36m10\u001b[0m\u001b[0;34m,\u001b[0m\u001b[0;36m7\u001b[0m\u001b[0;34m)\u001b[0m\u001b[0;34m)\u001b[0m\u001b[0;34m\u001b[0m\u001b[0;34m\u001b[0m\u001b[0m\n\u001b[0;32m----> 3\u001b[0;31m \u001b[0mplt\u001b[0m\u001b[0;34m.\u001b[0m\u001b[0msemilogx\u001b[0m\u001b[0;34m(\u001b[0m\u001b[0mlrs\u001b[0m\u001b[0;34m,\u001b[0m\u001b[0mhistory_9\u001b[0m\u001b[0;34m.\u001b[0m\u001b[0mhistory\u001b[0m\u001b[0;34m[\u001b[0m\u001b[0;34m\"loss\"\u001b[0m\u001b[0;34m]\u001b[0m\u001b[0;34m)\u001b[0m \u001b[0;31m# model's history\u001b[0m\u001b[0;34m\u001b[0m\u001b[0;34m\u001b[0m\u001b[0m\n\u001b[0m\u001b[1;32m      4\u001b[0m \u001b[0mplt\u001b[0m\u001b[0;34m.\u001b[0m\u001b[0mxlabel\u001b[0m\u001b[0;34m(\u001b[0m\u001b[0;34m\"Learning Rate\"\u001b[0m\u001b[0;34m)\u001b[0m\u001b[0;34m\u001b[0m\u001b[0;34m\u001b[0m\u001b[0m\n\u001b[1;32m      5\u001b[0m \u001b[0mplt\u001b[0m\u001b[0;34m.\u001b[0m\u001b[0mylabel\u001b[0m\u001b[0;34m(\u001b[0m\u001b[0;34m\"Loss\"\u001b[0m\u001b[0;34m)\u001b[0m\u001b[0;34m\u001b[0m\u001b[0;34m\u001b[0m\u001b[0m\n",
            "\u001b[0;31mNameError\u001b[0m: name 'history_9' is not defined"
          ]
        },
        {
          "output_type": "display_data",
          "data": {
            "text/plain": [
              "<Figure size 720x504 with 0 Axes>"
            ]
          },
          "metadata": {}
        }
      ]
    },
    {
      "cell_type": "markdown",
      "metadata": {
        "id": "HAG6T7eJ0uS6"
      },
      "source": [
        "## Simple Confusion Matrix (2 labels)"
      ]
    },
    {
      "cell_type": "code",
      "metadata": {
        "colab": {
          "base_uri": "https://localhost:8080/",
          "height": 606
        },
        "id": "8DatpLqS1Ugq",
        "outputId": "eef7b5b8-0898-4ff5-edca-0aec2ef5807d"
      },
      "source": [
        "from sklearn.metrics import ConfusionMatrixDisplay,confusion_matrix\n",
        "\n",
        "fig,ax = plt.subplots(figsize=(6,6))\n",
        "plt.rcParams.update({'font.size': 15})\n",
        "\n",
        "# Label ax\n",
        "ax.set(title=\"Confusion Matrix\")\n",
        "ax.title.set_size(15)\n",
        "ax.yaxis.label.set_size(15)\n",
        "ax.xaxis.label.set_size(15)\n",
        "\n",
        "# Plot confusion matrix\n",
        "cm = confusion_matrix(y_test,tf.round(y_preds))\n",
        "cmd = ConfusionMatrixDisplay(cm, [])\n",
        "cmd.plot(cmap=\"Blues\",ax=ax,)"
      ],
      "execution_count": null,
      "outputs": [
        {
          "output_type": "error",
          "ename": "NameError",
          "evalue": "ignored",
          "traceback": [
            "\u001b[0;31m---------------------------------------------------------------------------\u001b[0m",
            "\u001b[0;31mNameError\u001b[0m                                 Traceback (most recent call last)",
            "\u001b[0;32m<ipython-input-19-cc8f3fcc8e1c>\u001b[0m in \u001b[0;36m<module>\u001b[0;34m()\u001b[0m\n\u001b[1;32m     11\u001b[0m \u001b[0;34m\u001b[0m\u001b[0m\n\u001b[1;32m     12\u001b[0m \u001b[0;31m# Plot confusion matrix\u001b[0m\u001b[0;34m\u001b[0m\u001b[0;34m\u001b[0m\u001b[0;34m\u001b[0m\u001b[0m\n\u001b[0;32m---> 13\u001b[0;31m \u001b[0mcm\u001b[0m \u001b[0;34m=\u001b[0m \u001b[0mconfusion_matrix\u001b[0m\u001b[0;34m(\u001b[0m\u001b[0my_test\u001b[0m\u001b[0;34m,\u001b[0m\u001b[0mtf\u001b[0m\u001b[0;34m.\u001b[0m\u001b[0mround\u001b[0m\u001b[0;34m(\u001b[0m\u001b[0my_preds\u001b[0m\u001b[0;34m)\u001b[0m\u001b[0;34m)\u001b[0m\u001b[0;34m\u001b[0m\u001b[0;34m\u001b[0m\u001b[0m\n\u001b[0m\u001b[1;32m     14\u001b[0m \u001b[0mcmd\u001b[0m \u001b[0;34m=\u001b[0m \u001b[0mConfusionMatrixDisplay\u001b[0m\u001b[0;34m(\u001b[0m\u001b[0mcm\u001b[0m\u001b[0;34m,\u001b[0m \u001b[0;34m[\u001b[0m\u001b[0;34m]\u001b[0m\u001b[0;34m)\u001b[0m\u001b[0;34m\u001b[0m\u001b[0;34m\u001b[0m\u001b[0m\n\u001b[1;32m     15\u001b[0m \u001b[0mcmd\u001b[0m\u001b[0;34m.\u001b[0m\u001b[0mplot\u001b[0m\u001b[0;34m(\u001b[0m\u001b[0mcmap\u001b[0m\u001b[0;34m=\u001b[0m\u001b[0;34m\"Blues\"\u001b[0m\u001b[0;34m,\u001b[0m\u001b[0max\u001b[0m\u001b[0;34m=\u001b[0m\u001b[0max\u001b[0m\u001b[0;34m,\u001b[0m\u001b[0;34m)\u001b[0m\u001b[0;34m\u001b[0m\u001b[0;34m\u001b[0m\u001b[0m\n",
            "\u001b[0;31mNameError\u001b[0m: name 'y_test' is not defined"
          ]
        },
        {
          "output_type": "display_data",
          "data": {
            "image/png": "[encoded data removed]",
            "text/plain": [
              "<Figure size 432x432 with 1 Axes>"
            ]
          },
          "metadata": {
            "needs_background": "light"
          }
        }
      ]
    },
    {
      "cell_type": "markdown",
      "metadata": {
        "id": "sfLZBxB_1VFS"
      },
      "source": [
        "## Plot Multiple Examples for multiclass images (Random)"
      ]
    },
    {
      "cell_type": "code",
      "metadata": {
        "colab": {
          "base_uri": "https://localhost:8080/",
          "height": 446
        },
        "id": "GzqqDEJh1i3y",
        "outputId": "8771f321-0109-4676-98c3-ba64ece2468d"
      },
      "source": [
        "# Plot multiple examples\n",
        "import random\n",
        "plt.figure(figsize=(7,7))\n",
        "for i in range(4):\n",
        "  plt.subplot(2,2,i+1)\n",
        "  rand_index = random.choice(range(len(train_labels)))\n",
        "  plt.title(class_names[train_labels[rand_index]])\n",
        "  plt.imshow(train_data[rand_index])\n",
        "  plt.axis(False)"
      ],
      "execution_count": null,
      "outputs": [
        {
          "output_type": "error",
          "ename": "NameError",
          "evalue": "ignored",
          "traceback": [
            "\u001b[0;31m---------------------------------------------------------------------------\u001b[0m",
            "\u001b[0;31mNameError\u001b[0m                                 Traceback (most recent call last)",
            "\u001b[0;32m<ipython-input-21-d31290fb9b1b>\u001b[0m in \u001b[0;36m<module>\u001b[0;34m()\u001b[0m\n\u001b[1;32m      4\u001b[0m \u001b[0;32mfor\u001b[0m \u001b[0mi\u001b[0m \u001b[0;32min\u001b[0m \u001b[0mrange\u001b[0m\u001b[0;34m(\u001b[0m\u001b[0;36m4\u001b[0m\u001b[0;34m)\u001b[0m\u001b[0;34m:\u001b[0m\u001b[0;34m\u001b[0m\u001b[0;34m\u001b[0m\u001b[0m\n\u001b[1;32m      5\u001b[0m   \u001b[0mplt\u001b[0m\u001b[0;34m.\u001b[0m\u001b[0msubplot\u001b[0m\u001b[0;34m(\u001b[0m\u001b[0;36m2\u001b[0m\u001b[0;34m,\u001b[0m\u001b[0;36m2\u001b[0m\u001b[0;34m,\u001b[0m\u001b[0mi\u001b[0m\u001b[0;34m+\u001b[0m\u001b[0;36m1\u001b[0m\u001b[0;34m)\u001b[0m\u001b[0;34m\u001b[0m\u001b[0;34m\u001b[0m\u001b[0m\n\u001b[0;32m----> 6\u001b[0;31m   \u001b[0mrand_index\u001b[0m \u001b[0;34m=\u001b[0m \u001b[0mrandom\u001b[0m\u001b[0;34m.\u001b[0m\u001b[0mchoice\u001b[0m\u001b[0;34m(\u001b[0m\u001b[0mrange\u001b[0m\u001b[0;34m(\u001b[0m\u001b[0mlen\u001b[0m\u001b[0;34m(\u001b[0m\u001b[0mtrain_labels\u001b[0m\u001b[0;34m)\u001b[0m\u001b[0;34m)\u001b[0m\u001b[0;34m)\u001b[0m\u001b[0;34m\u001b[0m\u001b[0;34m\u001b[0m\u001b[0m\n\u001b[0m\u001b[1;32m      7\u001b[0m   \u001b[0mplt\u001b[0m\u001b[0;34m.\u001b[0m\u001b[0mtitle\u001b[0m\u001b[0;34m(\u001b[0m\u001b[0mclass_names\u001b[0m\u001b[0;34m[\u001b[0m\u001b[0mtrain_labels\u001b[0m\u001b[0;34m[\u001b[0m\u001b[0mrand_index\u001b[0m\u001b[0;34m]\u001b[0m\u001b[0;34m]\u001b[0m\u001b[0;34m)\u001b[0m\u001b[0;34m\u001b[0m\u001b[0;34m\u001b[0m\u001b[0m\n\u001b[1;32m      8\u001b[0m   \u001b[0mplt\u001b[0m\u001b[0;34m.\u001b[0m\u001b[0mimshow\u001b[0m\u001b[0;34m(\u001b[0m\u001b[0mtrain_data\u001b[0m\u001b[0;34m[\u001b[0m\u001b[0mrand_index\u001b[0m\u001b[0;34m]\u001b[0m\u001b[0;34m)\u001b[0m\u001b[0;34m\u001b[0m\u001b[0;34m\u001b[0m\u001b[0m\n",
            "\u001b[0;31mNameError\u001b[0m: name 'train_labels' is not defined"
          ]
        },
        {
          "output_type": "display_data",
          "data": {
            "image/png": "[encoded data removed]",
            "text/plain": [
              "<Figure size 504x504 with 1 Axes>"
            ]
          },
          "metadata": {
            "needs_background": "light"
          }
        }
      ]
    },
    {
      "cell_type": "markdown",
      "metadata": {
        "id": "g1pPxUSZ1jib"
      },
      "source": [
        "## Plot predictions for a regression problem"
      ]
    },
    {
      "cell_type": "code",
      "metadata": {
        "colab": {
          "base_uri": "https://localhost:8080/",
          "height": 231
        },
        "id": "84dpmpiN2o10",
        "outputId": "07efc518-cc9f-44db-9250-5470ab446686"
      },
      "source": [
        "def plot_predictions(train_data=X_train,train_labels=y_train,test_data=X_test,test_labels=y_test,predictions=y_preds):\n",
        "  \"\"\"\n",
        "  Plots training data, test data, and compares predictions to ground truth labels\n",
        "  \"\"\"\n",
        "  plt.figure(figsize=(10,7))\n",
        "  # Plot training data in blue\n",
        "  plt.scatter(train_data,train_labels,c=\"b\",label=\"Training data\")\n",
        "  # Plot testing data in green\n",
        "  plt.scatter(test_data,test_labels,c=\"g\",label=\"Testing data\")\n",
        "  # Plot model predictions in red\n",
        "  plt.scatter(test_data,predictions,c=\"red\",label=\"Predictions\")\n",
        "  # Make a legend\n",
        "  plt.legend();"
      ],
      "execution_count": null,
      "outputs": [
        {
          "output_type": "error",
          "ename": "NameError",
          "evalue": "ignored",
          "traceback": [
            "\u001b[0;31m---------------------------------------------------------------------------\u001b[0m",
            "\u001b[0;31mNameError\u001b[0m                                 Traceback (most recent call last)",
            "\u001b[0;32m<ipython-input-22-9457b5b08b24>\u001b[0m in \u001b[0;36m<module>\u001b[0;34m()\u001b[0m\n\u001b[0;32m----> 1\u001b[0;31m \u001b[0;32mdef\u001b[0m \u001b[0mplot_predictions\u001b[0m\u001b[0;34m(\u001b[0m\u001b[0mtrain_data\u001b[0m\u001b[0;34m=\u001b[0m\u001b[0mX_train\u001b[0m\u001b[0;34m,\u001b[0m\u001b[0mtrain_labels\u001b[0m\u001b[0;34m=\u001b[0m\u001b[0my_train\u001b[0m\u001b[0;34m,\u001b[0m\u001b[0mtest_data\u001b[0m\u001b[0;34m=\u001b[0m\u001b[0mX_test\u001b[0m\u001b[0;34m,\u001b[0m\u001b[0mtest_labels\u001b[0m\u001b[0;34m=\u001b[0m\u001b[0my_test\u001b[0m\u001b[0;34m,\u001b[0m\u001b[0mpredictions\u001b[0m\u001b[0;34m=\u001b[0m\u001b[0my_preds\u001b[0m\u001b[0;34m)\u001b[0m\u001b[0;34m:\u001b[0m\u001b[0;34m\u001b[0m\u001b[0;34m\u001b[0m\u001b[0m\n\u001b[0m\u001b[1;32m      2\u001b[0m   \"\"\"\n\u001b[1;32m      3\u001b[0m   \u001b[0mPlots\u001b[0m \u001b[0mtraining\u001b[0m \u001b[0mdata\u001b[0m\u001b[0;34m,\u001b[0m \u001b[0mtest\u001b[0m \u001b[0mdata\u001b[0m\u001b[0;34m,\u001b[0m \u001b[0;32mand\u001b[0m \u001b[0mcompares\u001b[0m \u001b[0mpredictions\u001b[0m \u001b[0mto\u001b[0m \u001b[0mground\u001b[0m \u001b[0mtruth\u001b[0m \u001b[0mlabels\u001b[0m\u001b[0;34m\u001b[0m\u001b[0;34m\u001b[0m\u001b[0m\n\u001b[1;32m      4\u001b[0m   \"\"\"\n\u001b[1;32m      5\u001b[0m   \u001b[0mplt\u001b[0m\u001b[0;34m.\u001b[0m\u001b[0mfigure\u001b[0m\u001b[0;34m(\u001b[0m\u001b[0mfigsize\u001b[0m\u001b[0;34m=\u001b[0m\u001b[0;34m(\u001b[0m\u001b[0;36m10\u001b[0m\u001b[0;34m,\u001b[0m\u001b[0;36m7\u001b[0m\u001b[0;34m)\u001b[0m\u001b[0;34m)\u001b[0m\u001b[0;34m\u001b[0m\u001b[0;34m\u001b[0m\u001b[0m\n",
            "\u001b[0;31mNameError\u001b[0m: name 'X_train' is not defined"
          ]
        }
      ]
    },
    {
      "cell_type": "markdown",
      "metadata": {
        "id": "HaBAzVIW2pSe"
      },
      "source": [
        "## Preprocess data, normalization/standardization in a regression dataset"
      ]
    },
    {
      "cell_type": "code",
      "metadata": {
        "colab": {
          "base_uri": "https://localhost:8080/",
          "height": 129
        },
        "id": "ezItLndd3DJ4",
        "outputId": "3862f076-0321-4b45-cc5c-f17f0c47fffa"
      },
      "source": [
        "# Import classes from sklearn\n",
        "from sklearn.compose import make_column_transformer\n",
        "from sklearn.preprocessing import MinMaxScaler,OneHotEncoder\n",
        "\n",
        "# Create a column transformer\n",
        "ct = make_column_transformer(\n",
        "    (MinMaxScaler(), [\"age\",\"bmi\",\"children\"]), # columns to be in the range of 0,1\n",
        "    (OneHotEncoder(handle_unknown=\"ignore\"),[\"sex\",\"smoker\",\"region\"]) # columns whose value should be either 0 or 1\n",
        ")\n",
        "\n",
        "X = insurance.drop(\"charges\",axis=1)\n",
        "y = insurance.charges\n",
        "\n",
        "X_train,X_test,y_train,y_test = train_test_split(X,y,test_size=0.2,random_state=42)\n",
        "\n",
        "# Fit the data to column transformer to our training data\n",
        "ct.fit(X_train)\n",
        "\n",
        "# Transform training and test data with normalization (standardization) and OneHotEncoder\n",
        "X_train_normal = ct.transform(X_train)\n",
        "X_test_normal = ct.transform(X_test"
      ],
      "execution_count": null,
      "outputs": [
        {
          "output_type": "error",
          "ename": "SyntaxError",
          "evalue": "ignored",
          "traceback": [
            "\u001b[0;36m  File \u001b[0;32m\"<ipython-input-23-895341c9b30d>\"\u001b[0;36m, line \u001b[0;32m21\u001b[0m\n\u001b[0;31m    X_test_normal = ct.transform(X_test\u001b[0m\n\u001b[0m                                       ^\u001b[0m\n\u001b[0;31mSyntaxError\u001b[0m\u001b[0;31m:\u001b[0m unexpected EOF while parsing\n"
          ]
        }
      ]
    },
    {
      "cell_type": "markdown",
      "metadata": {
        "id": "X_UXhTK43D2C"
      },
      "source": [
        "## Make TensorBoard Callback"
      ]
    },
    {
      "cell_type": "code",
      "metadata": {
        "id": "zXTCjZy48tBZ"
      },
      "source": [
        "import datetime\n",
        "\n",
        "def create_tensorboard_callback(dir_name, experiment_name):\n",
        "  \"\"\"\n",
        "  Creates a TensorBoard callback instand to store log files.\n",
        "  Stores log files with the filepath:\n",
        "    \"dir_name/experiment_name/current_datetime/\"\n",
        "  Args:\n",
        "    dir_name: target directory to store TensorBoard log files\n",
        "    experiment_name: name of experiment directory (e.g. efficientnet_model_1)\n",
        "  \"\"\"\n",
        "  log_dir = dir_name + \"/\" + experiment_name + \"/\" + datetime.datetime.now().strftime(\"%Y%m%d-%H%M%S\")\n",
        "  tensorboard_callback = tf.keras.callbacks.TensorBoard(\n",
        "      log_dir=log_dir\n",
        "  )\n",
        "  print(f\"Saving TensorBoard log files to: {log_dir}\")\n",
        "  return tensorboard_callback"
      ],
      "execution_count": null,
      "outputs": []
    },
    {
      "cell_type": "markdown",
      "metadata": {
        "id": "d2eLbZp98x8W"
      },
      "source": [
        "## Unzip data "
      ]
    },
    {
      "cell_type": "code",
      "metadata": {
        "id": "0x7gUGU387J_"
      },
      "source": [
        "import zipfile\n",
        "\n",
        "def unzip_data(filename):\n",
        "  \"\"\"\n",
        "  Unzips filename into the current working directory.\n",
        "  Args:\n",
        "    filename (str): a filepath to a target zip folder to be unzipped.\n",
        "  \"\"\"\n",
        "  zip_ref = zipfile.ZipFile(filename, \"r\")\n",
        "  zip_ref.extractall()\n",
        "  zip_ref.close()"
      ],
      "execution_count": null,
      "outputs": []
    },
    {
      "cell_type": "markdown",
      "metadata": {
        "id": "VgQXTE6O87tc"
      },
      "source": [
        "## Walkthrough Directories"
      ]
    },
    {
      "cell_type": "code",
      "metadata": {
        "id": "EaFsE1RI9DxB"
      },
      "source": [
        "import os\n",
        "\n",
        "def walk_through_dir(dir_path):\n",
        "  \"\"\"\n",
        "  Walks through dir_path returning its contents.\n",
        "  Args:\n",
        "    dir_path (str): target directory\n",
        "  \n",
        "  Returns:\n",
        "    A print out of:\n",
        "      number of subdiretories in dir_path\n",
        "      number of images (files) in each subdirectory\n",
        "      name of each subdirectory\n",
        "  \"\"\"\n",
        "  for dirpath, dirnames, filenames in os.walk(dir_path):\n",
        "    print(f\"There are {len(dirnames)} directories and {len(filenames)} images in '{dirpath}'.\")"
      ],
      "execution_count": null,
      "outputs": []
    },
    {
      "cell_type": "markdown",
      "metadata": {
        "id": "Gjy07J2E9ExS"
      },
      "source": [
        "## Calculate Results - y_true,y_preds"
      ]
    },
    {
      "cell_type": "code",
      "metadata": {
        "id": "P6EKE_mR9MAg"
      },
      "source": [
        "def calculate_results(y_true, y_pred):\n",
        "  \"\"\"\n",
        "  Calculates model accuracy, precision, recall and f1 score of a binary classification model.\n",
        "  Args:\n",
        "      y_true: true labels in the form of a 1D array\n",
        "      y_pred: predicted labels in the form of a 1D array\n",
        "  Returns a dictionary of accuracy, precision, recall, f1-score.\n",
        "  \"\"\"\n",
        "  # Calculate model accuracy\n",
        "  model_accuracy = accuracy_score(y_true, y_pred) * 100\n",
        "  # Calculate model precision, recall and f1 score using \"weighted average\n",
        "  model_precision, model_recall, model_f1, _ = precision_recall_fscore_support(y_true, y_pred, average=\"weighted\")\n",
        "  model_results = {\"accuracy\": model_accuracy,\n",
        "                  \"precision\": model_precision,\n",
        "                  \"recall\": model_recall,\n",
        "                  \"f1\": model_f1}\n",
        "  return model_results"
      ],
      "execution_count": null,
      "outputs": []
    },
    {
      "cell_type": "markdown",
      "metadata": {
        "id": "Rv5oK9R19Mi0"
      },
      "source": [
        "## Comparing Histories"
      ]
    },
    {
      "cell_type": "code",
      "metadata": {
        "id": "hh2Aggpg9Slx"
      },
      "source": [
        "def compare_historys(original_history, new_history, initial_epochs=5):\n",
        "    \"\"\"\n",
        "    Compares two TensorFlow model History objects.\n",
        "    \n",
        "    Args:\n",
        "      original_history: History object from original model (before new_history)\n",
        "      new_history: History object from continued model training (after original_history)\n",
        "      initial_epochs: Number of epochs in original_history (new_history plot starts from here) \n",
        "    \"\"\"\n",
        "    \n",
        "    # Get original history measurements\n",
        "    acc = original_history.history[\"accuracy\"]\n",
        "    loss = original_history.history[\"loss\"]\n",
        "\n",
        "    val_acc = original_history.history[\"val_accuracy\"]\n",
        "    val_loss = original_history.history[\"val_loss\"]\n",
        "\n",
        "    # Combine original history with new history\n",
        "    total_acc = acc + new_history.history[\"accuracy\"]\n",
        "    total_loss = loss + new_history.history[\"loss\"]\n",
        "\n",
        "    total_val_acc = val_acc + new_history.history[\"val_accuracy\"]\n",
        "    total_val_loss = val_loss + new_history.history[\"val_loss\"]\n",
        "\n",
        "    # Make plots\n",
        "    plt.figure(figsize=(8, 8))\n",
        "    plt.subplot(2, 1, 1)\n",
        "    plt.plot(total_acc, label='Training Accuracy')\n",
        "    plt.plot(total_val_acc, label='Validation Accuracy')\n",
        "    plt.plot([initial_epochs-1, initial_epochs-1],\n",
        "              plt.ylim(), label='Start Fine Tuning') # reshift plot around epochs\n",
        "    plt.legend(loc='lower right')\n",
        "    plt.title('Training and Validation Accuracy')\n",
        "\n",
        "    plt.subplot(2, 1, 2)\n",
        "    plt.plot(total_loss, label='Training Loss')\n",
        "    plt.plot(total_val_loss, label='Validation Loss')\n",
        "    plt.plot([initial_epochs-1, initial_epochs-1],\n",
        "              plt.ylim(), label='Start Fine Tuning') # reshift plot around epochs\n",
        "    plt.legend(loc='upper right')\n",
        "    plt.title('Training and Validation Loss')\n",
        "    plt.xlabel('epoch')\n",
        "    plt.show()"
      ],
      "execution_count": null,
      "outputs": []
    },
    {
      "cell_type": "markdown",
      "metadata": {
        "id": "WGj8hWpW9TGA"
      },
      "source": [
        "## Best Confusion Matrix (MultiClass with percentages)"
      ]
    },
    {
      "cell_type": "code",
      "metadata": {
        "id": "una-903m9fxa"
      },
      "source": [
        "import itertools\n",
        "import matplotlib.pyplot as plt\n",
        "import numpy as np\n",
        "from sklearn.metrics import confusion_matrix\n",
        "\n",
        "def make_confusion_matrix(y_true, y_pred, classes=None, figsize=(10, 10), text_size=15, norm=False, savefig=False): \n",
        "  \"\"\"Makes a labelled confusion matrix comparing predictions and ground truth labels.\n",
        "  If classes is passed, confusion matrix will be labelled, if not, integer class values\n",
        "  will be used.\n",
        "  Args:\n",
        "    y_true: Array of truth labels (must be same shape as y_pred).\n",
        "    y_pred: Array of predicted labels (must be same shape as y_true).\n",
        "    classes: Array of class labels (e.g. string form). If `None`, integer labels are used.\n",
        "    figsize: Size of output figure (default=(10, 10)).\n",
        "    text_size: Size of output figure text (default=15).\n",
        "    norm: normalize values or not (default=False).\n",
        "    savefig: save confusion matrix to file (default=False).\n",
        "  \n",
        "  Returns:\n",
        "    A labelled confusion matrix plot comparing y_true and y_pred.\n",
        "  Example usage:\n",
        "    make_confusion_matrix(y_true=test_labels, # ground truth test labels\n",
        "                          y_pred=y_preds, # predicted labels\n",
        "                          classes=class_names, # array of class label names\n",
        "                          figsize=(15, 15),\n",
        "                          text_size=10)\n",
        "  \"\"\"  \n",
        "  # Create the confustion matrix\n",
        "  cm = confusion_matrix(y_true, y_pred)\n",
        "  cm_norm = cm.astype(\"float\") / cm.sum(axis=1)[:, np.newaxis] # normalize it\n",
        "  n_classes = cm.shape[0] # find the number of classes we're dealing with\n",
        "\n",
        "  # Plot the figure and make it pretty\n",
        "  fig, ax = plt.subplots(figsize=figsize)\n",
        "  cax = ax.matshow(cm, cmap=plt.cm.Blues) # colors will represent how 'correct' a class is, darker == better\n",
        "  fig.colorbar(cax)\n",
        "\n",
        "  # Are there a list of classes?\n",
        "  if classes:\n",
        "    labels = classes\n",
        "  else:\n",
        "    labels = np.arange(cm.shape[0])\n",
        "  \n",
        "  # Label the axes\n",
        "  ax.set(title=\"Confusion Matrix\",\n",
        "         xlabel=\"Predicted label\",\n",
        "         ylabel=\"True label\",\n",
        "         xticks=np.arange(n_classes), # create enough axis slots for each class\n",
        "         yticks=np.arange(n_classes), \n",
        "         xticklabels=labels, # axes will labeled with class names (if they exist) or ints\n",
        "         yticklabels=labels)\n",
        "  \n",
        "  # Make x-axis labels appear on bottom\n",
        "  ax.xaxis.set_label_position(\"bottom\")\n",
        "  ax.xaxis.tick_bottom()\n",
        "\n",
        "  # Set the threshold for different colors\n",
        "  threshold = (cm.max() + cm.min()) / 2.\n",
        "\n",
        "  # Plot the text on each cell\n",
        "  for i, j in itertools.product(range(cm.shape[0]), range(cm.shape[1])):\n",
        "    if norm:\n",
        "      plt.text(j, i, f\"{cm[i, j]} ({cm_norm[i, j]*100:.1f}%)\",\n",
        "              horizontalalignment=\"center\",\n",
        "              color=\"white\" if cm[i, j] > threshold else \"black\",\n",
        "              size=text_size)\n",
        "    else:\n",
        "      plt.text(j, i, f\"{cm[i, j]}\",\n",
        "              horizontalalignment=\"center\",\n",
        "              color=\"white\" if cm[i, j] > threshold else \"black\",\n",
        "              size=text_size)\n",
        "\n",
        "  # Save the figure to the current working directory\n",
        "  if savefig:\n",
        "    fig.savefig(\"confusion_matrix.png\")"
      ],
      "execution_count": null,
      "outputs": []
    },
    {
      "cell_type": "code",
      "metadata": {
        "id": "H9QLhYHt9gg1"
      },
      "source": [
        ""
      ],
      "execution_count": null,
      "outputs": []
    }
  ]
}